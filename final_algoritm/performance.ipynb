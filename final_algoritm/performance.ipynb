{
 "cells": [
  {
   "cell_type": "markdown",
   "id": "a4acb499",
   "metadata": {},
   "source": [
    "# final algorithm design\n",
    "\n",
    "### In this notebook, \n"
   ]
  },
  {
   "cell_type": "code",
   "execution_count": 1,
   "id": "6daf76b9",
   "metadata": {},
   "outputs": [],
   "source": [
    "%load_ext autoreload\n",
    "%autoreload 2"
   ]
  },
  {
   "cell_type": "code",
   "execution_count": 2,
   "id": "62572556",
   "metadata": {},
   "outputs": [],
   "source": [
    "import sys\n",
    "import os\n",
    "sys.path.append(os.path.abspath(\"../\"))  # or \".\" or \"..\" depending on your structure"
   ]
  },
  {
   "cell_type": "code",
   "execution_count": 38,
   "id": "acc4dcff",
   "metadata": {},
   "outputs": [],
   "source": [
    "import numpy as np\n",
    "import matplotlib.pyplot as plt\n",
    "from models.model_utils import mask_observations, params\n",
    "from models.linear_model import LinearModel_Estimator\n",
    "from calibrator_module.BCUC_calibrator_finalVersion import BCUC_Calibrator\n",
    "from models.model_utils import params\n",
    "from calibrator_module.NLL_gradient_descent_calibrator import NLLGD_Calibrator\n"
   ]
  },
  {
   "cell_type": "code",
   "execution_count": 39,
   "id": "7ccb5999",
   "metadata": {},
   "outputs": [
    {
     "name": "stderr",
     "output_type": "stream",
     "text": [
      "4732.80s - pydevd: Sending message related to process being replaced timed-out after 5 seconds\n"
     ]
    },
    {
     "name": "stdout",
     "output_type": "stream",
     "text": [
      "Creating linear system...\n",
      "[[0.3]]\n",
      "\n",
      "Generating observations for random_zeros_and_actions actions...\n",
      "Generated 10001 observations\n",
      "Observation shape: (1,)\n",
      "Data saved as ../observations/observations_random_zeros_and_actions_for_Q0.3_steps_10000.npz\n",
      "Model parameters saved as ../observations/observations_random_zeros_and_actions_for_Q0.3_steps_10000_params.json\n",
      "Observation mean: [4.85750018]\n",
      "Observation std: [1.76903086]\n",
      "Observation generation complete!\n",
      "\n",
      "Recommended workflow:\n",
      "1. Use .npz format for numerical analysis in Python\n",
      "2. Use .csv format for analysis in Excel or pandas\n",
      "3. Use .json format for human-readable debugging\n",
      "4. Use .mat format for MATLAB interoperability\n"
     ]
    }
   ],
   "source": [
    "\n",
    "!python ../observation_generation.py --dir_path \"../observations\" --format npz --n_steps 10000"
   ]
  },
  {
   "cell_type": "code",
   "execution_count": null,
   "id": "607d817c",
   "metadata": {},
   "outputs": [
    {
     "name": "stdout",
     "output_type": "stream",
     "text": [
      "Initial Q matrix: [[0.6275]]\n",
      "Target (true) Q*: 0.01\n",
      "\n",
      "[BCUC quantile_coupled]\n",
      "metrics: {'E_bar': 0.28554979850316636, 'coverage': 0.7144502014968337, 'mean_interval_width': 0.3351726108909286, 'avg_nll': -0.9813455934013139, 'final_difference': 0.014743392780994844, 'relative_error': 1.4743392780994844}\n",
      "final Q: [[0.02474339]]\n",
      "Target (true) Q*: 0.3\n",
      "\n",
      "[BCUC quantile_coupled]\n",
      "metrics: {'E_bar': 0.31174438687392053, 'coverage': 0.6882556131260795, 'mean_interval_width': 0.47167508362214994, 'avg_nll': -0.15344284187137178, 'final_difference': 0.007618725715941133, 'relative_error': 0.025395752386470443}\n",
      "final Q: [[0.30761873]]\n",
      "Target (true) Q*: 0.7\n",
      "\n",
      "[BCUC quantile_coupled]\n",
      "metrics: {'E_bar': 0.31246401842256766, 'coverage': 0.6875359815774323, 'mean_interval_width': 0.621952171730318, 'avg_nll': 0.21890311741513538, 'final_difference': 0.009533650727579834, 'relative_error': 0.013619501039399764}\n",
      "final Q: [[0.70953365]]\n",
      "Target (true) Q*: 1.5\n",
      "\n",
      "[BCUC quantile_coupled]\n",
      "metrics: {'E_bar': 0.31232009211283823, 'coverage': 0.6876799078871618, 'mean_interval_width': 0.8505708212372386, 'avg_nll': 0.610251171293421, 'final_difference': 0.026998335814496954, 'relative_error': 0.01799889054299797}\n",
      "final Q: [[1.52699834]]\n"
     ]
    }
   ],
   "source": [
    "# --- load data ---\n",
    "from models.model_utils import params\n",
    "persons = [0.01, 0.3, 0.7, 1.5]\n",
    "initial_model = LinearModel_Estimator(**params)   # e.g., Q_initial = mean(persons)\n",
    "print(f\"Initial Q matrix: {initial_model.Q}\")\n",
    "calibrated_models = []\n",
    "metrics = []\n",
    "# --- 1) B-CUC: quantile-coupled (q_t -> anchored Q) ---\n",
    "cal_qc = BCUC_Calibrator(\n",
    "    initial_model=initial_model,\n",
    "    alpha=0.32,          # μ±σ target; keeps Q identification unbiased if Gaussian\n",
    ")\n",
    "for person in persons:\n",
    "    path_to_load = f\"../observations/observations_random_zeros_and_actions_for_Q{person}_steps_10000.npz\"\n",
    "    data = np.load(path_to_load, allow_pickle=True)\n",
    "    masked_observations = mask_observations(data['observations'])\n",
    "    actions = data['actions']\n",
    "\n",
    "    # --- build model ---\n",
    "    to_print = f\"Target (true) Q*: {person}\"\n",
    "    print(to_print)\n",
    "\n",
    "    model_qc = cal_qc.calibrate_model(masked_observations, actions)\n",
    "    calibrated_models.append(model_qc)\n",
    "    # --- evaluate metrics ---\n",
    "    metrics_qc = cal_qc.get_metrics(person)\n",
    "    metrics.append(metrics_qc)\n",
    "    # --- print results ---\n",
    "    print(\"\\n[BCUC quantile_coupled]\")\n",
    "    print(\"metrics:\", metrics_qc)\n",
    "    print(\"final Q:\", model_qc.Q)\n",
    "    print()"
   ]
  },
  {
   "cell_type": "code",
   "execution_count": 7,
   "id": "0476d5f9",
   "metadata": {},
   "outputs": [
    {
     "name": "stdout",
     "output_type": "stream",
     "text": [
      "\n",
      "[BCUC quantile_coupled]\n",
      "metrics: {'E_bar': 0.31879677605066203, 'coverage': 0.681203223949338, 'mean_interval_width': 0.6806743256752487, 'avg_nll': 0.2276099170657401}\n",
      "final Q: [[0.8915074]]\n"
     ]
    }
   ],
   "source": [
    "# --- plot results ---\n",
    "metrics_qc = cal_qc.get_metrics()\n",
    "print(\"\\n[BCUC quantile_coupled]\")\n",
    "print(\"metrics:\", metrics_qc)\n",
    "print(\"final Q:\", model_qc.Q)\n",
    "\n",
    "# metrics_qf = cal_qf.get_metrics()\n",
    "# print(\"\\n[BCUC quantile_free]\")\n",
    "# print(\"metrics:\", metrics_qf)\n",
    "# print(\"final Q:\", model_qf.Q)\n",
    "\n",
    "# metrics_nll = cal_nll.get_metrics()\n",
    "# print(\"\\n[NLLGD baseline]\")\n",
    "# print(\"metrics:\", metrics_nll)\n",
    "# print(\"final Q:\", model_nll.Q)"
   ]
  },
  {
   "cell_type": "code",
   "execution_count": null,
   "id": "ebb8de53",
   "metadata": {},
   "outputs": [],
   "source": [
    "data['observations'].size"
   ]
  },
  {
   "cell_type": "code",
   "execution_count": 32,
   "id": "9a07dba5",
   "metadata": {},
   "outputs": [],
   "source": [
    "Q_vals_qc = cal_qc.Q_history\n",
    "# Q_vals_qf = cal_qf.Q_history\n",
    "# Q_vals_nll = cal_nll.Q_history\n",
    "\n",
    "q_vals_qc = cal_qc.q_history\n",
    "# q_vals_qf = cal_qf.q_history #should be 1 always - just for sanity check\n",
    "\n",
    "interval_widths_qc = cal_qc.interval_widths\n",
    "# interval_widths_qf = cal_qf.interval_widths\n",
    "# interval_widths_nll = cal_nll.interval_widths\n",
    "\n",
    "E_qc = cal_qc.conformal_p_control.E\n",
    "# E_qf = cal_qf.conformal_p_control.E\n",
    "# E_null = [1 - h for h in cal_nll.coverage_hits]\n",
    "\n",
    "interval_widths_with_correction_qc = [val*q for val, q in zip(interval_widths_qc, q_vals_qc)]\n",
    "sigma_qc = [std/2 for std in interval_widths_with_correction_qc] #this is the vlaues of the std but calculated right after the prediction \n",
    "#step (without the update step in case of observation available)\n",
    "# #it is necessary to follow this value to evaluate our calibration mechanism (we can check the interval width and cover precision)\n",
    "# sigma_qf = [std/2 for std in interval_widths_qf]\n",
    "# sigma_null = [std/2 for std in interval_widths_nll]\n",
    "\n",
    "meu_qc = [dictionary['mean'].flatten() for dictionary in model_qc.dist_estimates]\n",
    "std_qc = [np.sqrt(dictionary['var'].flatten()) for dictionary in model_qc.dist_estimates]\n",
    "meu_qc = np.array(meu_qc[1:]).squeeze()   \n",
    "std_qc = np.array(std_qc[1:]).squeeze()\n",
    "\n",
    "# meu_qf = [dictionary['mean'].flatten() for dictionary in model_qf.dist_estimates]\n",
    "# std_qf = [np.sqrt(dictionary['var'].flatten()) for dictionary in model_qf.dist_estimates]\n",
    "# meu_qf = np.array(meu_qf[1:]).squeeze()   \n",
    "# std_qf = np.array(std_qf[1:]).squeeze()\n",
    "\n",
    "# meu_nll = [dictionary['mean'].flatten() for dictionary in model_nll.dist_estimates]\n",
    "# std_nll = [np.sqrt(dictionary['var'].flatten()) for dictionary in model_nll.dist_estimates]\n",
    "# meu_nll = np.array(meu_nll[1:]).squeeze()   \n",
    "# std_nll = np.array(std_nll[1:]).squeeze()"
   ]
  },
  {
   "cell_type": "code",
   "execution_count": 106,
   "id": "8c01c481",
   "metadata": {},
   "outputs": [],
   "source": [
    "dir_name = \"plots/second_person\"\n",
    "os.makedirs(dir_name, exist_ok=True)"
   ]
  },
  {
   "cell_type": "markdown",
   "id": "882f8f4f",
   "metadata": {},
   "source": [
    "## Plots"
   ]
  },
  {
   "cell_type": "code",
   "execution_count": 41,
   "id": "0105ec2e",
   "metadata": {},
   "outputs": [],
   "source": [
    "from utils.utils import plot_one, plot_two"
   ]
  },
  {
   "cell_type": "code",
   "execution_count": 33,
   "id": "0407f7e6",
   "metadata": {},
   "outputs": [
    {
     "ename": "NameError",
     "evalue": "name 'dir_name' is not defined",
     "output_type": "error",
     "traceback": [
      "\u001b[0;31m---------------------------------------------------------------------------\u001b[0m",
      "\u001b[0;31mNameError\u001b[0m                                 Traceback (most recent call last)",
      "Cell \u001b[0;32mIn[33], line 13\u001b[0m\n\u001b[1;32m     11\u001b[0m plt\u001b[38;5;241m.\u001b[39mtight_layout()\n\u001b[1;32m     12\u001b[0m fig_name \u001b[38;5;241m=\u001b[39m \u001b[38;5;124m\"\u001b[39m\u001b[38;5;124mQ_t_over_time.png\u001b[39m\u001b[38;5;124m\"\u001b[39m\n\u001b[0;32m---> 13\u001b[0m full_path \u001b[38;5;241m=\u001b[39m os\u001b[38;5;241m.\u001b[39mpath\u001b[38;5;241m.\u001b[39mjoin(\u001b[43mdir_name\u001b[49m, fig_name)\n\u001b[1;32m     14\u001b[0m plt\u001b[38;5;241m.\u001b[39msavefig(full_path, dpi\u001b[38;5;241m=\u001b[39m\u001b[38;5;241m300\u001b[39m, bbox_inches\u001b[38;5;241m=\u001b[39m\u001b[38;5;124m'\u001b[39m\u001b[38;5;124mtight\u001b[39m\u001b[38;5;124m'\u001b[39m)\n\u001b[1;32m     15\u001b[0m plt\u001b[38;5;241m.\u001b[39mshow()\n",
      "\u001b[0;31mNameError\u001b[0m: name 'dir_name' is not defined"
     ]
    },
    {
     "data": {
      "image/png": "[encoded data removed]",
      "text/plain": [
       "<Figure size 1000x500 with 1 Axes>"
      ]
     },
     "metadata": {},
     "output_type": "display_data"
    }
   ],
   "source": [
    "# plot_one(x = None, y=Q_vals, title=\"Process Noise over Timesteps\", x_label=\"Time Step\", y_label=\"Q_t\", label=\"Q_t\", dir_name=dir_name, fig_name=\"Q_t.png\")\n",
    "plt.figure(figsize=(10, 5))\n",
    "plt.plot(Q_vals_qc, label=\"Q_t - BCUC quantile_coupled\", color='blue', linewidth=2)\n",
    "plt.axhline(y=0.7, color='red', linestyle='--', label=\"Target Q* = 0.7\")\n",
    "plt.xlabel(\"Time Step\")\n",
    "plt.ylabel(\"Value \")\n",
    "plt.title(\"Q_t\")\n",
    "\n",
    "plt.legend()\n",
    "plt.grid(True)\n",
    "plt.tight_layout()\n",
    "fig_name = \"Q_t_over_time.png\"\n",
    "full_path = os.path.join(dir_name, fig_name)\n",
    "plt.savefig(full_path, dpi=300, bbox_inches='tight')\n",
    "plt.show()\n"
   ]
  },
  {
   "cell_type": "code",
   "execution_count": null,
   "id": "706ca82a",
   "metadata": {},
   "outputs": [],
   "source": [
    "Q_mean_last_k_qc = np.mean(Q_vals_qc[:])\n",
    "print(Q_mean_last_k_qc)\n"
   ]
  },
  {
   "cell_type": "code",
   "execution_count": null,
   "id": "429e5399",
   "metadata": {},
   "outputs": [],
   "source": [
    "plt.figure(figsize=(10, 5))\n",
    "plt.plot(interval_widths_with_correction_qc, label=\"Prediction Interval Width - BCUC quantile_coupled\", color='blue', linewidth=2)\n",
    "plt.xlabel(\"Time Step\")\n",
    "plt.ylabel(\"Width\")\n",
    "plt.title(\"Prediction Interval Width Over Time\")\n",
    "plt.grid(True)\n",
    "plt.legend()\n",
    "plt.tight_layout()\n",
    "fig_name = \"plot_interval_width.png\"\n",
    "full_path = os.path.join(dir_name, fig_name)\n",
    "plt.savefig(full_path, dpi=300, bbox_inches='tight')\n",
    "plt.show()"
   ]
  },
  {
   "cell_type": "code",
   "execution_count": null,
   "id": "50af626e",
   "metadata": {},
   "outputs": [],
   "source": [
    "plt.figure(figsize=(10, 5))\n",
    "plt.plot(np.arange(len(q_vals_qc)), q_vals_qc,  label=\"q_t\")\n",
    "# plt.yscale(\"log\")\n",
    "plt.xlabel(\"Time Step\")\n",
    "plt.ylabel(\"Value\")\n",
    "plt.title(\"q_t\")\n",
    "plt.legend()\n",
    "plt.grid(True)\n",
    "plt.tight_layout()\n",
    "fig_name = \"q_t.png\"\n",
    "full_path = os.path.join(dir_name, fig_name)\n",
    "plt.savefig(full_path, dpi=300, bbox_inches='tight')\n",
    "plt.show()"
   ]
  },
  {
   "cell_type": "code",
   "execution_count": null,
   "id": "17f7dbc0",
   "metadata": {},
   "outputs": [],
   "source": [
    "plt.figure(figsize=(10, 5))\n",
    "time_steps = range(len(E_qc[600:]))  # or your actual time step data\n",
    "plt.scatter(time_steps, E_qc[600:], label=\"coverage error\")\n",
    "# plt.yscale(\"log\")\n",
    "plt.xlabel(\"Time Step\")\n",
    "plt.ylabel(\"Value\")\n",
    "plt.title(\"Binary Coverage Errors Over Time\")\n",
    "plt.legend()\n",
    "plt.grid(True)\n",
    "plt.tight_layout()\n",
    "fig_name = \"E_t.png\"\n",
    "full_path = os.path.join(dir_name, fig_name)\n",
    "plt.savefig(full_path, dpi=300)\n",
    "plt.show()"
   ]
  },
  {
   "cell_type": "code",
   "execution_count": null,
   "id": "09b3410c",
   "metadata": {},
   "outputs": [],
   "source": [
    "plt.figure(figsize=(10, 5))\n",
    "time_steps = range(len(E))  # or your actual time step data\n",
    "plt.scatter(E, Q_vals, label=\"coverage error\")\n",
    "# plt.yscale(\"log\")\n",
    "plt.xlabel(\"E_bar\")\n",
    "plt.ylabel(\"Q_t\")\n",
    "plt.title(\"Binary Coverage Errors Over Time\")\n",
    "plt.legend()\n",
    "plt.grid(True)\n",
    "plt.tight_layout()\n",
    "plt.show()"
   ]
  },
  {
   "cell_type": "code",
   "execution_count": null,
   "id": "c9c2a27f",
   "metadata": {},
   "outputs": [],
   "source": [
    "np.mean(E)"
   ]
  },
  {
   "cell_type": "code",
   "execution_count": null,
   "id": "7e67cbf9",
   "metadata": {},
   "outputs": [],
   "source": [
    "sigma = np.array(sigma).flatten()\n",
    "sigma"
   ]
  },
  {
   "cell_type": "code",
   "execution_count": null,
   "id": "ce866762",
   "metadata": {},
   "outputs": [],
   "source": [
    "plt.figure(figsize=(10, 5))\n",
    "ts = np.arange(len(meu)) \n",
    "plt.plot(ts, meu, label=\" meu\")\n",
    "# plt.fill_between(ts, meu- std, meu + std, alpha=0.2, label=\"Confidence Interval\")\n",
    "# plt.yscale(\"log\")\n",
    "plt.xlabel(\"Time Step\")\n",
    "plt.ylabel(\"Value\")\n",
    "plt.title(\"Mean and Standard Deviation Over Time vs Observations\")\n",
    "plt.grid(True)\n",
    "plt.tight_layout()\n",
    "plt.savefig(\"calibrated_distribution_over_time_vs_observation.png\", dpi=300)\n",
    "plt.fill_between(ts, meu - sigma, meu + sigma, alpha=0.2, label=\"Confidence Interval\")\n",
    "ts_new = np.arange(np.size(masked_observations))\n",
    "# mask = ~np.isnan(masked_observations)\n",
    "# ts_valid = ts_new[mask.flatten()]\n",
    "# obs_valid = masked_observations[mask.flatten()]\n",
    "# plt.scatter(ts_valid, obs_valid, color='red', label='Observations')\n",
    "obs = data['observations']\n",
    "plt.scatter(ts_new, obs, color='red', label='Observations')\n",
    "plt.show()\n"
   ]
  },
  {
   "cell_type": "code",
   "execution_count": null,
   "id": "0768272b",
   "metadata": {},
   "outputs": [],
   "source": [
    "mask = ~np.isnan(masked_observations)\n",
    "obs_valid = masked_observations[mask.flatten()]\n",
    "obs_valid.size"
   ]
  },
  {
   "cell_type": "code",
   "execution_count": null,
   "id": "bf057b81",
   "metadata": {},
   "outputs": [],
   "source": []
  },
  {
   "cell_type": "code",
   "execution_count": null,
   "id": "8ea0bcc2",
   "metadata": {},
   "outputs": [],
   "source": [
    "plt.figure(figsize=(10, 5))\n",
    "plt.scatter(ts_new, within_band, color='red', label='Observations')\n",
    "plt.show()\n",
    "\n"
   ]
  },
  {
   "cell_type": "code",
   "execution_count": null,
   "id": "96072ef8",
   "metadata": {},
   "outputs": [],
   "source": [
    "within_band.size"
   ]
  },
  {
   "cell_type": "code",
   "execution_count": null,
   "id": "132b6452",
   "metadata": {},
   "outputs": [],
   "source": [
    "np.arange(np.size(masked_observations))"
   ]
  },
  {
   "cell_type": "code",
   "execution_count": null,
   "id": "7a32d31b",
   "metadata": {},
   "outputs": [],
   "source": [
    "# FOR DIFFERENT NOTEBOOK - COMPARISON BETWEEN METHODS\n",
    "\n",
    "# # NLL method (no quantile)\n",
    "# cal_nll = NLLGD_Calibrator(initial_model=patient_1_model, eta_Q=1e-2, clip_grad=1.0, ema_beta=0.9)\n",
    "# model_nll = cal_nll.calibrate_model(masked_observations, actions)\n",
    "# print(\"NLLGD metrics:\", cal_nll.get_metrics())\n",
    "\n",
    "# # Your B-CUC variants already return the same keys via get_metrics()\n",
    "# cal_bcuc_qc = BCUC_Calibrator(patient_1_model, mode=\"quantile_coupled\")\n",
    "# cal_bcuc_qc.calibrate_model(masked_observations, actions)\n",
    "# print(\"BCUC (quantile_coupled):\", cal_bcuc_qc.get_metrics())\n",
    "\n",
    "# cal_bcuc_qf = BCUC_Calibrator(patient_1_model, mode=\"quantile_free\")\n",
    "# cal_bcuc_qf.calibrate_model(masked_observations, actions)\n",
    "# print(\"BCUC (quantile_free):\", cal_bcuc_qf.get_metrics())"
   ]
  }
 ],
 "metadata": {
  "kernelspec": {
   "display_name": ".venv",
   "language": "python",
   "name": "python3"
  },
  "language_info": {
   "codemirror_mode": {
    "name": "ipython",
    "version": 3
   },
   "file_extension": ".py",
   "mimetype": "text/x-python",
   "name": "python",
   "nbconvert_exporter": "python",
   "pygments_lexer": "ipython3",
   "version": "3.9.6"
  }
 },
 "nbformat": 4,
 "nbformat_minor": 5
}
