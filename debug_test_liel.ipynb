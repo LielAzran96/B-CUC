{
 "cells": [
  {
   "cell_type": "code",
   "execution_count": 1,
   "id": "61578241",
   "metadata": {},
   "outputs": [],
   "source": [
    "import numpy as np\n",
    "\n",
    "A = np.ones(5)"
   ]
  },
  {
   "cell_type": "code",
   "execution_count": 2,
   "id": "a9d56ff7",
   "metadata": {},
   "outputs": [
    {
     "data": {
      "text/plain": [
       "array([1., 1., 1., 1., 1.])"
      ]
     },
     "execution_count": 2,
     "metadata": {},
     "output_type": "execute_result"
    }
   ],
   "source": [
    "A"
   ]
  },
  {
   "cell_type": "code",
   "execution_count": 3,
   "id": "cbd51b2c",
   "metadata": {},
   "outputs": [
    {
     "data": {
      "text/plain": [
       "array([[1., 0., 0., 0., 0.],\n",
       "       [0., 1., 0., 0., 0.],\n",
       "       [0., 0., 1., 0., 0.],\n",
       "       [0., 0., 0., 1., 0.],\n",
       "       [0., 0., 0., 0., 1.]])"
      ]
     },
     "execution_count": 3,
     "metadata": {},
     "output_type": "execute_result"
    }
   ],
   "source": [
    "np.diag(A)"
   ]
  },
  {
   "cell_type": "code",
   "execution_count": 2,
   "id": "7d8a8621",
   "metadata": {},
   "outputs": [
    {
     "data": {
      "text/plain": [
       "array([10,  1,  2,  3,  4,  5])"
      ]
     },
     "execution_count": 2,
     "metadata": {},
     "output_type": "execute_result"
    }
   ],
   "source": [
    "import numpy as np\n",
    "A = np.array([1, 2, 3, 4, 5])\n",
    "number = 10\n",
    "np.concatenate(([number], A))"
   ]
  },
  {
   "cell_type": "code",
   "execution_count": 3,
   "id": "24624abe",
   "metadata": {},
   "outputs": [
    {
     "name": "stdout",
     "output_type": "stream",
     "text": [
      "Observations shape: (51, 1, 1)\n",
      "Data keys: ['observations', 'timestamps', 'actions']\n"
     ]
    }
   ],
   "source": [
    "import numpy as np\n",
    "\n",
    "# Load from NPZ format (recommended)\n",
    "data = np.load(\"observations_sinusoidal.npz\")\n",
    "observations = data['observations']\n",
    "timestamps = data['timestamps']\n",
    "actions = data['actions']\n",
    "states = data['states'] if 'states' in data else None\n",
    "\n",
    "print(f\"Observations shape: {observations.shape}\")\n",
    "print(f\"Data keys: {list(data.keys())}\")"
   ]
  },
  {
   "cell_type": "code",
   "execution_count": 10,
   "id": "9751c92a",
   "metadata": {},
   "outputs": [
    {
     "data": {
      "text/plain": [
       "array([[[0.12615797]],\n",
       "\n",
       "       [[0.53803015]]])"
      ]
     },
     "execution_count": 10,
     "metadata": {},
     "output_type": "execute_result"
    }
   ],
   "source": [
    "observations[0:2]"
   ]
  },
  {
   "cell_type": "code",
   "execution_count": 11,
   "id": "8f3d33a1",
   "metadata": {},
   "outputs": [],
   "source": [
    "observations_d = np.array([[[1.0]], [[2.0]], [[3.0]], [[4.0]]])"
   ]
  },
  {
   "cell_type": "code",
   "execution_count": 12,
   "id": "f0c73004",
   "metadata": {},
   "outputs": [
    {
     "data": {
      "text/plain": [
       "(4, 1, 1)"
      ]
     },
     "execution_count": 12,
     "metadata": {},
     "output_type": "execute_result"
    }
   ],
   "source": [
    "observations_d.shape"
   ]
  },
  {
   "cell_type": "code",
   "execution_count": 13,
   "id": "bb7c9418",
   "metadata": {},
   "outputs": [],
   "source": [
    "\n",
    "# Mask for every nth observation (e.g., every 5th observation)\n",
    "sampling_mask = np.arange(0, len(observations_d), 2)\n",
    "sampled_observations = observations_d[sampling_mask]"
   ]
  },
  {
   "cell_type": "code",
   "execution_count": 14,
   "id": "8880af62",
   "metadata": {},
   "outputs": [
    {
     "data": {
      "text/plain": [
       "array([[[1.]],\n",
       "\n",
       "       [[3.]]])"
      ]
     },
     "execution_count": 14,
     "metadata": {},
     "output_type": "execute_result"
    }
   ],
   "source": [
    "sampled_observations"
   ]
  },
  {
   "cell_type": "code",
   "execution_count": null,
   "id": "fa672231",
   "metadata": {},
   "outputs": [],
   "source": []
  },
  {
   "cell_type": "markdown",
   "id": "dd6ad59d",
   "metadata": {},
   "source": [
    "# Masking with None Values\n",
    "\n",
    "When you want to mask observations but keep the same array length, you can set masked positions to `None`. This preserves the temporal structure while indicating missing/masked data."
   ]
  },
  {
   "cell_type": "code",
   "execution_count": 15,
   "id": "65f55a6e",
   "metadata": {},
   "outputs": [
    {
     "name": "stdout",
     "output_type": "stream",
     "text": [
      "Original observations shape: (51, 1, 1)\n",
      "First 5 observations:\n",
      "[[[0.12615797]]\n",
      "\n",
      " [[0.53803015]]\n",
      "\n",
      " [[0.15975223]]\n",
      "\n",
      " [[0.46371002]]\n",
      "\n",
      " [[0.42984675]]]\n",
      "\n",
      "Masked array created with shape: (51,)\n"
     ]
    }
   ],
   "source": [
    "# Example: Create masked observations with None values\n",
    "# Start with your loaded observations\n",
    "print(\"Original observations shape:\", observations.shape)\n",
    "print(\"First 5 observations:\")\n",
    "print(observations[:5])\n",
    "\n",
    "# Create a copy for masking (use object dtype to allow None)\n",
    "masked_observations = np.empty(observations.shape[0], dtype=object)\n",
    "\n",
    "# Copy the original observations\n",
    "for i in range(len(observations)):\n",
    "    masked_observations[i] = observations[i].copy()\n",
    "\n",
    "print(\"\\nMasked array created with shape:\", masked_observations.shape)"
   ]
  },
  {
   "cell_type": "code",
   "execution_count": null,
   "id": "b640bb55",
   "metadata": {},
   "outputs": [
    {
     "name": "stdout",
     "output_type": "stream",
     "text": [
      "Randomly masked 19 out of 51 observations\n",
      "First 10 elements (None = masked):\n",
      "[array([[0.12615797]]) array([[0.53803015]]) array([[0.15975223]])\n",
      " array([[0.46371002]]) None None None array([[0.22498989]])\n",
      " array([[0.42373395]]) array([[0.04455506]])]\n"
     ]
    }
   ],
   "source": [
    "# Method 1: Random masking - set random observations to None\n",
    "np.random.seed(42)\n",
    "mask_probability = 0.3  # 30% of observations will be None\n",
    "\n",
    "# Create random mask\n",
    "random_mask = np.random.random(len(observations)) < mask_probability\n",
    "\n",
    "# Apply mask - set selected positions to None\n",
    "masked_obs_random = masked_observations.copy()\n",
    "masked_obs_random[random_mask] = None\n",
    "\n",
    "print(f\"Randomly masked {np.sum(random_mask)} out of {len(observations)} observations\")\n",
    "print(\"First 10 elements (None = masked):\")\n",
    "print(masked_obs_random[:10])"
   ]
  },
  {
   "cell_type": "code",
   "execution_count": null,
   "id": "c6f47a6e",
   "metadata": {},
   "outputs": [],
   "source": [
    "# Method 2: Systematic masking - every nth observation\n",
    "mask_every_n = 3  # Mask every 3rd observation\n",
    "\n",
    "masked_obs_systematic = masked_observations.copy()\n",
    "# Set every nth observation to None\n",
    "masked_obs_systematic[::mask_every_n] = None\n",
    "\n",
    "print(f\"Systematically masked every {mask_every_n}rd observation\")\n",
    "print(\"First 15 elements:\")\n",
    "print(masked_obs_systematic[:15])"
   ]
  },
  {
   "cell_type": "code",
   "execution_count": null,
   "id": "7418189d",
   "metadata": {},
   "outputs": [],
   "source": [
    "# Method 3: Time-based masking - mask specific time ranges\n",
    "time_mask_start = 2.0\n",
    "time_mask_end = 3.5\n",
    "\n",
    "masked_obs_time = masked_observations.copy()\n",
    "time_mask = (timestamps >= time_mask_start) & (timestamps <= time_mask_end)\n",
    "masked_obs_time[time_mask] = None\n",
    "\n",
    "print(f\"Time-based masking: masked observations between {time_mask_start} and {time_mask_end}\")\n",
    "print(f\"Masked {np.sum(time_mask)} observations\")\n",
    "\n",
    "# Method 4: Value-based masking - mask based on observation values\n",
    "masked_obs_value = masked_observations.copy()\n",
    "# Mask observations where first component is above a threshold\n",
    "threshold = np.mean(observations[:, 0, 0])  # Use mean as threshold\n",
    "value_mask = observations[:, 0, 0] > threshold\n",
    "masked_obs_value[value_mask] = None\n",
    "\n",
    "print(f\"\\nValue-based masking: masked {np.sum(value_mask)} observations above threshold {threshold:.3f}\")"
   ]
  },
  {
   "cell_type": "code",
   "execution_count": null,
   "id": "df85023d",
   "metadata": {},
   "outputs": [],
   "source": [
    "# Utility functions for working with None-masked observations\n",
    "\n",
    "def get_valid_observations(masked_obs_array):\n",
    "    \"\"\"Extract only non-None observations\"\"\"\n",
    "    valid_indices = [i for i, obs in enumerate(masked_obs_array) if obs is not None]\n",
    "    valid_obs = [masked_obs_array[i] for i in valid_indices]\n",
    "    return np.array(valid_obs), valid_indices\n",
    "\n",
    "def count_missing(masked_obs_array):\n",
    "    \"\"\"Count missing (None) observations\"\"\"\n",
    "    return sum(1 for obs in masked_obs_array if obs is None)\n",
    "\n",
    "def get_mask_pattern(masked_obs_array):\n",
    "    \"\"\"Get boolean mask where True = valid data, False = None\"\"\"\n",
    "    return np.array([obs is not None for obs in masked_obs_array])\n",
    "\n",
    "# Test the utility functions\n",
    "valid_obs, valid_indices = get_valid_observations(masked_obs_random)\n",
    "missing_count = count_missing(masked_obs_random)\n",
    "mask_pattern = get_mask_pattern(masked_obs_random)\n",
    "\n",
    "print(f\"Valid observations: {len(valid_obs)}\")\n",
    "print(f\"Missing observations: {missing_count}\")\n",
    "print(f\"Total: {len(masked_obs_random)}\")\n",
    "print(f\"Mask pattern (first 20): {mask_pattern[:20]}\")"
   ]
  },
  {
   "cell_type": "code",
   "execution_count": null,
   "id": "5d417178",
   "metadata": {},
   "outputs": [],
   "source": [
    "def create_masked_observations(observations, timestamps, mask_type='random', **kwargs):\n",
    "    \"\"\"\n",
    "    Create masked observations with None values\n",
    "    \n",
    "    Args:\n",
    "        observations: Original observations array\n",
    "        timestamps: Corresponding timestamps\n",
    "        mask_type: 'random', 'systematic', 'time_range', 'value_based', 'custom'\n",
    "        **kwargs: Additional parameters for specific mask types\n",
    "    \n",
    "    Returns:\n",
    "        numpy array with None values at masked positions\n",
    "    \"\"\"\n",
    "    # Create object array to hold None values\n",
    "    masked_obs = np.empty(len(observations), dtype=object)\n",
    "    \n",
    "    # Copy original observations\n",
    "    for i in range(len(observations)):\n",
    "        masked_obs[i] = observations[i].copy()\n",
    "    \n",
    "    if mask_type == 'random':\n",
    "        prob = kwargs.get('probability', 0.2)\n",
    "        seed = kwargs.get('seed', 42)\n",
    "        np.random.seed(seed)\n",
    "        mask = np.random.random(len(observations)) < prob\n",
    "        \n",
    "    elif mask_type == 'systematic':\n",
    "        step = kwargs.get('step', 3)\n",
    "        mask = np.zeros(len(observations), dtype=bool)\n",
    "        mask[::step] = True\n",
    "        \n",
    "    elif mask_type == 'time_range':\n",
    "        t_start = kwargs.get('t_start', 1.0)\n",
    "        t_end = kwargs.get('t_end', 3.0)\n",
    "        mask = (timestamps >= t_start) & (timestamps <= t_end)\n",
    "        \n",
    "    elif mask_type == 'value_based':\n",
    "        threshold = kwargs.get('threshold', np.mean(observations[:, 0, 0]))\n",
    "        dim = kwargs.get('dimension', 0)\n",
    "        mask = observations[:, dim, 0] > threshold\n",
    "        \n",
    "    elif mask_type == 'custom':\n",
    "        mask = kwargs.get('mask', np.zeros(len(observations), dtype=bool))\n",
    "        \n",
    "    else:\n",
    "        raise ValueError(f\"Unknown mask_type: {mask_type}\")\n",
    "    \n",
    "    # Apply mask\n",
    "    masked_obs[mask] = None\n",
    "    \n",
    "    return masked_obs, mask\n",
    "\n",
    "# Example usage of the comprehensive function\n",
    "print(\"Creating different masked versions:\")\n",
    "\n",
    "# Random masking\n",
    "masked_random, mask_random = create_masked_observations(\n",
    "    observations, timestamps, 'random', probability=0.25, seed=123\n",
    ")\n",
    "print(f\"Random mask: {np.sum(mask_random)} masked out of {len(observations)}\")\n",
    "\n",
    "# Time-based masking\n",
    "masked_time, mask_time = create_masked_observations(\n",
    "    observations, timestamps, 'time_range', t_start=1.5, t_end=2.5\n",
    ")\n",
    "print(f\"Time mask: {np.sum(mask_time)} masked out of {len(observations)}\")\n",
    "\n",
    "# Custom pattern - mask every 4th observation starting from index 1\n",
    "custom_mask = np.zeros(len(observations), dtype=bool)\n",
    "custom_mask[1::4] = True\n",
    "masked_custom, _ = create_masked_observations(\n",
    "    observations, timestamps, 'custom', mask=custom_mask\n",
    ")\n",
    "print(f\"Custom mask: {np.sum(custom_mask)} masked out of {len(observations)}\")"
   ]
  },
  {
   "cell_type": "code",
   "execution_count": null,
   "id": "316217eb",
   "metadata": {},
   "outputs": [],
   "source": [
    "# Visualize the masking pattern\n",
    "def print_mask_pattern(masked_obs, timestamps, max_display=30):\n",
    "    \"\"\"Print a visual representation of the mask pattern\"\"\"\n",
    "    print(\"Mask pattern (✓ = valid data, ✗ = None):\")\n",
    "    pattern = \"\"\n",
    "    times = \"\"\n",
    "    \n",
    "    display_length = min(len(masked_obs), max_display)\n",
    "    \n",
    "    for i in range(display_length):\n",
    "        if masked_obs[i] is not None:\n",
    "            pattern += \"✓ \"\n",
    "            times += f\"{timestamps[i]:.1f} \"\n",
    "        else:\n",
    "            pattern += \"✗ \"\n",
    "            times += \"--- \"\n",
    "    \n",
    "    if len(masked_obs) > max_display:\n",
    "        pattern += \"...\"\n",
    "        times += \"...\"\n",
    "    \n",
    "    print(\"Pattern:\", pattern)\n",
    "    print(\"Times:  \", times)\n",
    "    print()\n",
    "\n",
    "# Test the visualization\n",
    "print(\"Random masking pattern:\")\n",
    "print_mask_pattern(masked_random, timestamps)\n",
    "\n",
    "print(\"Time-based masking pattern:\")\n",
    "print_mask_pattern(masked_time, timestamps)\n",
    "\n",
    "print(\"Custom masking pattern:\")\n",
    "print_mask_pattern(masked_custom, timestamps)"
   ]
  }
 ],
 "metadata": {
  "kernelspec": {
   "display_name": "bcuq",
   "language": "python",
   "name": "python3"
  },
  "language_info": {
   "codemirror_mode": {
    "name": "ipython",
    "version": 3
   },
   "file_extension": ".py",
   "mimetype": "text/x-python",
   "name": "python",
   "nbconvert_exporter": "python",
   "pygments_lexer": "ipython3",
   "version": "3.10.18"
  }
 },
 "nbformat": 4,
 "nbformat_minor": 5
}
